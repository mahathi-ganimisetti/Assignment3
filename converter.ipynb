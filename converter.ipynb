{
 "cells": [
  {
   "cell_type": "code",
   "execution_count": 1,
   "id": "acf0a4eb",
   "metadata": {},
   "outputs": [
    {
     "name": "stdout",
     "output_type": "stream",
     "text": [
      "Graph data saved to cleaned_graph_data.json\n"
     ]
    },
    {
     "name": "stderr",
     "output_type": "stream",
     "text": [
      "/var/folders/b1/9kxdfvz90r1dt1tzhtkyv20h0000gp/T/ipykernel_17604/145397356.py:13: SettingWithCopyWarning: \n",
      "A value is trying to be set on a copy of a slice from a DataFrame.\n",
      "Try using .loc[row_indexer,col_indexer] = value instead\n",
      "\n",
      "See the caveats in the documentation: https://pandas.pydata.org/pandas-docs/stable/user_guide/indexing.html#returning-a-view-versus-a-copy\n",
      "  df_cleaned['Publisher'] = df_cleaned['Publisher'].fillna('')\n",
      "/var/folders/b1/9kxdfvz90r1dt1tzhtkyv20h0000gp/T/ipykernel_17604/145397356.py:14: SettingWithCopyWarning: \n",
      "A value is trying to be set on a copy of a slice from a DataFrame.\n",
      "Try using .loc[row_indexer,col_indexer] = value instead\n",
      "\n",
      "See the caveats in the documentation: https://pandas.pydata.org/pandas-docs/stable/user_guide/indexing.html#returning-a-view-versus-a-copy\n",
      "  df_cleaned['Year'] = df_cleaned['Year'].fillna('')\n"
     ]
    }
   ],
   "source": [
    "import pandas as pd\n",
    "import networkx as nx\n",
    "import json\n",
    "\n",
    "file_path = \"/Users/Mah/Desktop/Ass3/data_scopus.csv\"  \n",
    "df = pd.read_csv(file_path)\n",
    "\n",
    "df_cleaned = df.dropna(subset=['Year', 'Authors', 'Authors with affiliations'])\n",
    "\n",
    "df_cleaned['Publisher'] = df_cleaned['Publisher'].fillna('')\n",
    "df_cleaned['Year'] = df_cleaned['Year'].fillna('')\n",
    "df_cleaned = df_cleaned[\n",
    "    ~df_cleaned['Year'].isin(['Unknown', '']) &\n",
    "    ~df_cleaned['Authors'].str.contains('Unknown', na=False) &\n",
    "    ~df_cleaned['Authors with affiliations'].str.contains('Unknown', na=False)\n",
    "]\n",
    "\n",
    "G = nx.Graph()\n",
    "\n",
    "for _, row in df_cleaned.iterrows():\n",
    "    authors = row['Authors'].split(\", \")\n",
    "    affiliations = row['Authors with affiliations'].split(\"; \") if pd.notna(row['Authors with affiliations']) else []\n",
    "    \n",
    "    if pd.isna(row['Year']) or row['Year'] in ['', 'Unknown']:\n",
    "        continue\n",
    "    if pd.isna(row['Publisher']) or row['Publisher'] in ['', 'Unknown']:\n",
    "        continue\n",
    "    if not any(affiliations):  \n",
    "        continue\n",
    "    \n",
    "    for author in authors:\n",
    "        G.add_node(author, type='author', year=row['Year'], publisher=row['Publisher'], affiliation=\"\")\n",
    "    \n",
    "    for affiliation in affiliations:\n",
    "        if affiliation not in G:\n",
    "            G.add_node(affiliation, type='affiliation')\n",
    "        for author in authors:\n",
    "            G.add_edge(author, affiliation)\n",
    "            if G.nodes[author]['affiliation'] == \"\":\n",
    "                G.nodes[author]['affiliation'] = affiliation\n",
    "\n",
    "nodes_to_remove = [\n",
    "    node for node, attrs in G.nodes(data=True)\n",
    "    if any(attrs.get(attr) in ['', 'Unknown'] for attr in ['year', 'publisher', 'affiliation'])\n",
    "]\n",
    "G.remove_nodes_from(nodes_to_remove)\n",
    "\n",
    "for _, row in df_cleaned.iterrows():\n",
    "    authors = row['Authors'].split(\", \")\n",
    "    for i, author1 in enumerate(authors):\n",
    "        for author2 in authors[i + 1:]:\n",
    "            if G.has_node(author1) and G.has_node(author2):\n",
    "                G.add_edge(author1, author2)\n",
    "\n",
    "data = nx.node_link_data(G)\n",
    "\n",
    "for node in data['nodes']:\n",
    "    for field in ['publisher', 'year', 'affiliation']:\n",
    "        if node.get(field) in ['', 'Unknown']:\n",
    "            del node[field]\n",
    "    \n",
    "    node['label'] = node['id']\n",
    "    \n",
    "output_file = \"cleaned_graph_data.json\"\n",
    "with open(output_file, 'w') as f:\n",
    "    json.dump(data, f, indent=4)\n",
    "\n",
    "print(f\"Graph data saved to {output_file}\")"
   ]
  }
 ],
 "metadata": {
  "kernelspec": {
   "display_name": "Python 3 (ipykernel)",
   "language": "python",
   "name": "python3"
  },
  "language_info": {
   "codemirror_mode": {
    "name": "ipython",
    "version": 3
   },
   "file_extension": ".py",
   "mimetype": "text/x-python",
   "name": "python",
   "nbconvert_exporter": "python",
   "pygments_lexer": "ipython3",
   "version": "3.11.5"
  }
 },
 "nbformat": 4,
 "nbformat_minor": 5
}
